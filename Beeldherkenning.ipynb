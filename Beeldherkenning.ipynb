{
  "nbformat": 4,
  "nbformat_minor": 0,
  "metadata": {
    "colab": {
      "provenance": [],
      "include_colab_link": true
    },
    "kernelspec": {
      "name": "python3",
      "display_name": "Python 3"
    },
    "language_info": {
      "name": "python"
    }
  },
  "cells": [
    {
      "cell_type": "markdown",
      "metadata": {
        "id": "view-in-github",
        "colab_type": "text"
      },
      "source": [
        "<a href=\"https://colab.research.google.com/github/hazemafara/BE-op-8/blob/main/Beeldherkenning.ipynb\" target=\"_parent\"><img src=\"https://colab.research.google.com/assets/colab-badge.svg\" alt=\"Open In Colab\"/></a>"
      ]
    },
    {
      "cell_type": "markdown",
      "source": [
        "# Opdracht 1.1: Beeldherkenning\n",
        "\n",
        "We gaan aan de slag met de '*Hello World*' van neurale netwerken: het herkennen van de handgeschreven cijfers van de [MNIST dataset](http://yann.lecun.com/exdb/mnist/). Deze dataset bestaat uit een trainset van 60.000 plaatjes met cijfers en een testset van nog eens 10.000 plaatjes.\n",
        "- De trainset wordt gebruikt om het model te trainen.\n",
        "- De testset wordt gebruikt om de prestatie van het model te testen.\n",
        "\n",
        "De plaatjes zien er als volgt uit:<br>\n",
        "<a title=\"Josef Steppan, CC BY-SA 4.0 &lt;https://creativecommons.org/licenses/by-sa/4.0&gt;, via Wikimedia Commons\" href=\"https://commons.wikimedia.org/wiki/File:MnistExamples.png\"><img width=\"512\" alt=\"MnistExamples\" src=\"https://upload.wikimedia.org/wikipedia/commons/2/27/MnistExamples.png\"></a>\n",
        "\n",
        "**De opdracht is om de juiste lagen voor dit netwerk te maken zodanig dat het model de geschreven cijfers goed voorspelt.**\n",
        "\n",
        "\n",
        "\n",
        "## 1. Installatie\n",
        "We hebben hier een paar modules voor nodig, deze worden hieronder geïnstalleerd."
      ],
      "metadata": {
        "id": "QX9hG75Y4_Vj"
      }
    },
    {
      "cell_type": "code",
      "execution_count": null,
      "metadata": {
        "collapsed": true,
        "id": "3BLMwCFV0I1o"
      },
      "outputs": [],
      "source": [
        "# @title 1.1. Installeer modules\n",
        "!pip install numpy tensorflow matplotlib"
      ]
    },
    {
      "cell_type": "markdown",
      "source": [
        "## 2. Modules importeren\n",
        "Daarnaast moeten deze modules worden geïmporteerd."
      ],
      "metadata": {
        "id": "eGjTKSGE5uv6"
      }
    },
    {
      "cell_type": "code",
      "source": [
        "# @title 2.1. Importeer modules\n",
        "import numpy as np\n",
        "import random\n",
        "import matplotlib.pyplot as plt\n",
        "from tensorflow.keras.datasets import mnist\n",
        "from tensorflow.keras.models import Sequential\n",
        "from tensorflow.keras.layers import Input, Dense\n",
        "from tensorflow.keras.utils import to_categorical\n"
      ],
      "metadata": {
        "id": "Xy84irvg1WZ7"
      },
      "execution_count": null,
      "outputs": []
    },
    {
      "cell_type": "markdown",
      "source": [
        "## 3. Definieer functies\n",
        "We hebben een aantal functies gemaakt die een neuraal netwerk traint om handgeschreven cijfers te herkennen en een om de effectiviteit van datzelfde model te testen.<br><br>\n",
        "Als je het leuk vindt, kun je deze code analyseren. <b>Dit is echter niet nodig voor het maken van deze oefening.</b>\n",
        "\n"
      ],
      "metadata": {
        "id": "g_aRnQUs6RIZ"
      }
    },
    {
      "cell_type": "code",
      "source": [
        "# @title 3.1. Definieer functies\n",
        "def train_model(input_size, hidden_size, output_size, x_train, y_train):\n",
        "  x_train = x_train.astype('float32') / 255\n",
        "  x_train = x_train.reshape(-1, input_size)\n",
        "  y_train = to_categorical(y_train, output_size)\n",
        "\n",
        "  model = Sequential([\n",
        "      Input(shape=(input_size,)),\n",
        "      Dense(hidden_size, activation='relu'),\n",
        "      Dense(output_size, activation='softmax')\n",
        "  ])\n",
        "\n",
        "  model.compile(optimizer='adam',\n",
        "                loss='categorical_crossentropy',\n",
        "                metrics=['accuracy'])\n",
        "\n",
        "  model.fit(x_train, y_train, epochs=1, batch_size=32)\n",
        "\n",
        "  return model\n",
        "\n",
        "def test_model(model, input_size, output_size, x_test, y_test):\n",
        "  x_test = x_test.astype('float32') / 255\n",
        "  x_test_flat = x_test.reshape(-1, input_size)\n",
        "  y_test = to_categorical(y_test, output_size)\n",
        "\n",
        "  test_loss, test_acc = model.evaluate(x_test_flat, y_test)\n",
        "  print()\n",
        "  print(f'Modelprestatie: {test_acc:.4f}')\n",
        "\n",
        "  predictions = model.predict(x_test_flat)\n",
        "\n",
        "  print()\n",
        "  print(f'3 verkeerde voorspellingen:')\n",
        "  count = 0\n",
        "  for i in range(len(y_test)):\n",
        "    if count >= 3:\n",
        "      break\n",
        "\n",
        "    if np.argmax(y_test[i]) != np.argmax(predictions[i]):\n",
        "      count += 1\n",
        "      plt.imshow(x_test[i], cmap='gray')\n",
        "      plt.title(f'Voorspeld: {np.argmax(predictions[i])}, correct: {np.argmax(y_test[i])}')\n",
        "      plt.show()"
      ],
      "metadata": {
        "id": "EQ8kttYGNmrC"
      },
      "execution_count": null,
      "outputs": []
    },
    {
      "cell_type": "markdown",
      "source": [
        "## 4. MNIST laden en tonen\n",
        "Onderstaande code laadt de mnist dataset in vier onderdelen:\n",
        "\n",
        "\n",
        "1.   x_train: De inputplaatjes waar het model op getraind wordt.\n",
        "2.   y_train: De outputwaarden (de waarde van de getallen) waar het model op getraind wordt.\n",
        "3.   x_test: de inputplaatjes waarmee de prestatie van het model getest wordt.\n",
        "4.   y_test: de outputwaarden waarmee de prestatie van het model getest wordt.\n",
        "\n",
        "Na het inladen worden alle grijswaardenwaarden alle pixels van het allereerste plaatje geprint.\n",
        "<b>\n",
        "- Welk cijfer staat hier?\n",
        "- Pas de code aan om andere cijfers te tonen.</b>\n"
      ],
      "metadata": {
        "id": "Vut8n3agNXXe"
      }
    },
    {
      "cell_type": "code",
      "source": [
        "(x_train, y_train), (x_test, y_test) = mnist.load_data()\n",
        "\n",
        "mat = x_train[0]\n",
        "col_maxes = [max([len((\"{:g}\").format(x)) for x in col]) for col in mat.T]\n",
        "for x in mat:\n",
        "    for i, y in enumerate(x):\n",
        "        print((\"{:3}\").format(y), end=\"  \")\n",
        "    print(\"\")"
      ],
      "metadata": {
        "id": "BcPBt_wE0P_S"
      },
      "execution_count": null,
      "outputs": []
    },
    {
      "cell_type": "markdown",
      "source": [
        "## 5. Het neurale netwerk\n",
        "Om ons model te kunnen maken, moeten we de drie lagen van ons netwerk bepalen:\n",
        "\n",
        "\n",
        "1.   De inputlaag: hier stoppen we de grijswaarde van elke pixel van het plaatje in.\n",
        "2.   De verborgen laag: hierdoor begrijpt het netwerk complexe structuren.\n",
        "3.   De outputlaag: hier wordt per cijfer bepaald of het handgeschreven plaatje deze waarde heeft.\n",
        "\n",
        "## 6. De inputlaag\n",
        "Als eerste moeten we bepalen hoe groot de inputlaag moet worden om de plaatjes te kunnen klassificeren.\n",
        "\n",
        "**Opdracht 1.1: Hoe groot moet de inputlaag zijn?**\n",
        "\n",
        "Tip: de inputlaag moet precies groot genoeg zijn om de grijswaarden van een plaatje te bevatten.\n",
        "\n",
        "Tip 2: wanneer dit getal onjuist is, zal het trainen en testen van het model een foutmelding geven"
      ],
      "metadata": {
        "id": "opPaDQUb-n3Y"
      }
    },
    {
      "cell_type": "code",
      "source": [
        "input_size = 1 # Een input_size van 1 is niet correct.. Wat wel?"
      ],
      "metadata": {
        "id": "4zKusp8m6O-_"
      },
      "execution_count": null,
      "outputs": []
    },
    {
      "cell_type": "markdown",
      "source": [
        "## 7. De outputlaag\n",
        "Daarna moeten we bepalen hoe groot de outputlaag moet worden om het juiste aantal klassen te kunnen voorspellen.\n",
        "\n",
        "**Opdracht 1.2: Hoe groot moet de outputlaag zijn?**\n",
        "\n",
        "Tip: de outputlaag moet dus net zo groot zijn als het aantal klassen dat we willen voorspellen.\n",
        "\n",
        "Tip 2: wanneer dit getal onjuist is, zal het trainen en testen van het model een foutmelding geven"
      ],
      "metadata": {
        "id": "W1uldqv6FF_d"
      }
    },
    {
      "cell_type": "code",
      "source": [
        "output_size = 1 # Een oputput_size van 1 is niet correct.. Wat wel?"
      ],
      "metadata": {
        "id": "Oukkr_UZEbSI"
      },
      "execution_count": null,
      "outputs": []
    },
    {
      "cell_type": "markdown",
      "source": [
        "## 8. De verborgen laag\n",
        "Daarna moeten we bepalen hoe groot de verborgen laag moet worden. Bij een te kleine verborgen laag leert het model niet goed. Bij een te grote verborgen laag leert het model te traag.\n",
        "\n",
        "**Opdracht 1.3: Hoe groot moet de verborgen laag minimaal zijn om een goede prestatie te halen?**\n",
        "\n",
        "- **Waarom zouden we op zoek zijn naar de kleinste hidden_size?**\n",
        "- **Wat is eigenlijk een 'goede' prestatie?**\n",
        "\n",
        "Tip: hier is dus niet direct een 'juist' antwoord."
      ],
      "metadata": {
        "id": "w4jF8R8qXP4x"
      }
    },
    {
      "cell_type": "code",
      "source": [
        "hidden_size = 1 # Een hidden_size van 1 is niet voldoende.. Wat is de kleinste 'goede' waarde?"
      ],
      "metadata": {
        "id": "MTXqA-CgXYEP"
      },
      "execution_count": null,
      "outputs": []
    },
    {
      "cell_type": "markdown",
      "source": [
        "## 9. Trainen + testen\n"
      ],
      "metadata": {
        "id": "qOzKGCZ9FN5C"
      }
    },
    {
      "cell_type": "code",
      "source": [
        "model = train_model(input_size, hidden_size, output_size, x_train, y_train)\n",
        "test_model(model, input_size, output_size, x_test, y_test)"
      ],
      "metadata": {
        "id": "kh85YVy0EOEl"
      },
      "execution_count": null,
      "outputs": []
    },
    {
      "cell_type": "markdown",
      "source": [
        "## (optioneel) 9. Meerdere verborgen lagen\n",
        "\n",
        "Pas de code zo aan dat het neurale netwerk 2 verborgen lagen heeft. Hoe groot moeten de verborgen lagen nu minimaal zijn?"
      ],
      "metadata": {
        "id": "w9oieplDHKx-"
      }
    }
  ]
}